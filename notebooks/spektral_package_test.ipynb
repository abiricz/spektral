{
 "cells": [
  {
   "cell_type": "code",
   "execution_count": 1,
   "metadata": {},
   "outputs": [
    {
     "name": "stderr",
     "output_type": "stream",
     "text": [
      "Using TensorFlow backend.\n"
     ]
    }
   ],
   "source": [
    "#from spektral.datasets import citation\n",
    "import spektral\n",
    "import numpy as np\n",
    "import scipy as sc\n",
    "import matplotlib.pyplot as plt\n",
    "\n",
    "from spektral.layers import GraphConv\n",
    "from spektral import utils\n",
    "\n",
    "from keras.models import Model\n",
    "from keras.layers import Input, Dropout"
   ]
  },
  {
   "cell_type": "markdown",
   "metadata": {},
   "source": [
    "### Source:\n",
    "https://danielegrattarola.github.io/spektral/getting-started/"
   ]
  },
  {
   "cell_type": "markdown",
   "metadata": {},
   "source": [
    "### Some test"
   ]
  },
  {
   "cell_type": "code",
   "execution_count": 2,
   "metadata": {},
   "outputs": [
    {
     "name": "stdout",
     "output_type": "stream",
     "text": [
      "Loading cora dataset\n",
      "Pre-processing node features\n"
     ]
    }
   ],
   "source": [
    "data = spektral.datasets.citation.load_data('cora')\n",
    "A, X, y_train, y_val, y_test, train_mask, val_mask, test_mask = data\n",
    "\n",
    "N = A.shape[0]\n",
    "F = X.shape[-1]\n",
    "n_classes = y_train.shape[-1]"
   ]
  },
  {
   "cell_type": "code",
   "execution_count": 3,
   "metadata": {},
   "outputs": [
    {
     "data": {
      "text/plain": [
       "((2708, 2708), (2708, 1433), (2708, 7), (2708, 7), (2708,), (2708,), (2708,))"
      ]
     },
     "execution_count": 3,
     "metadata": {},
     "output_type": "execute_result"
    }
   ],
   "source": [
    "A.shape, X.shape, y_val.shape, y_test.shape, train_mask.shape, val_mask.shape, test_mask.shape"
   ]
  },
  {
   "cell_type": "code",
   "execution_count": 4,
   "metadata": {},
   "outputs": [
    {
     "name": "stdout",
     "output_type": "stream",
     "text": [
      "WARNING:tensorflow:From /home/abiricz/.local/lib/python3.5/site-packages/tensorflow/python/framework/op_def_library.py:263: colocate_with (from tensorflow.python.framework.ops) is deprecated and will be removed in a future version.\n",
      "Instructions for updating:\n",
      "Colocations handled automatically by placer.\n",
      "WARNING:tensorflow:From /home/abiricz/.local/lib/python3.5/site-packages/keras/backend/tensorflow_backend.py:3445: calling dropout (from tensorflow.python.ops.nn_ops) with keep_prob is deprecated and will be removed in a future version.\n",
      "Instructions for updating:\n",
      "Please use `rate` instead of `keep_prob`. Rate should be set to `rate = 1 - keep_prob`.\n"
     ]
    }
   ],
   "source": [
    "# Model definition\n",
    "X_in = Input(shape=(F, ))  # Input layer for X\n",
    "A_in = Input((N, ), sparse=True)  # Input layer for A\n",
    "\n",
    "graph_conv_1 = GraphConv(16, activation='relu')([X_in, A_in])\n",
    "dropout = Dropout(0.5)(graph_conv_1)\n",
    "graph_conv_2 = GraphConv(n_classes, activation='softmax')([dropout, A_in])\n",
    "\n",
    "# Build model\n",
    "model = Model(inputs=[X_in, A_in], outputs=graph_conv_2)"
   ]
  },
  {
   "cell_type": "code",
   "execution_count": 5,
   "metadata": {},
   "outputs": [],
   "source": [
    "A = utils.localpooling_filter(A)"
   ]
  },
  {
   "cell_type": "code",
   "execution_count": 6,
   "metadata": {
    "scrolled": true
   },
   "outputs": [
    {
     "name": "stdout",
     "output_type": "stream",
     "text": [
      "__________________________________________________________________________________________________\n",
      "Layer (type)                    Output Shape         Param #     Connected to                     \n",
      "==================================================================================================\n",
      "input_1 (InputLayer)            (None, 1433)         0                                            \n",
      "__________________________________________________________________________________________________\n",
      "input_2 (InputLayer)            (None, 2708)         0                                            \n",
      "__________________________________________________________________________________________________\n",
      "graph_conv_1 (GraphConv)        (None, 16)           22944       input_1[0][0]                    \n",
      "                                                                 input_2[0][0]                    \n",
      "__________________________________________________________________________________________________\n",
      "dropout_1 (Dropout)             (None, 16)           0           graph_conv_1[0][0]               \n",
      "__________________________________________________________________________________________________\n",
      "graph_conv_2 (GraphConv)        (None, 7)            119         dropout_1[0][0]                  \n",
      "                                                                 input_2[0][0]                    \n",
      "==================================================================================================\n",
      "Total params: 23,063\n",
      "Trainable params: 23,063\n",
      "Non-trainable params: 0\n",
      "__________________________________________________________________________________________________\n"
     ]
    }
   ],
   "source": [
    "model.compile(optimizer='adam',\n",
    "              loss='categorical_crossentropy',\n",
    "              weighted_metrics=['acc'])\n",
    "model.summary()"
   ]
  },
  {
   "cell_type": "code",
   "execution_count": 7,
   "metadata": {},
   "outputs": [
    {
     "name": "stdout",
     "output_type": "stream",
     "text": [
      "WARNING:tensorflow:From /home/abiricz/.local/lib/python3.5/site-packages/tensorflow/python/ops/math_ops.py:3066: to_int32 (from tensorflow.python.ops.math_ops) is deprecated and will be removed in a future version.\n",
      "Instructions for updating:\n",
      "Use tf.cast instead.\n",
      "Train on 2708 samples, validate on 2708 samples\n",
      "Epoch 1/100\n",
      "2708/2708 [==============================] - 1s 437us/step - loss: 1.9461 - weighted_acc: 0.1929 - val_loss: 1.9457 - val_weighted_acc: 0.1260\n",
      "Epoch 2/100\n",
      "2708/2708 [==============================] - 0s 13us/step - loss: 1.9453 - weighted_acc: 0.2429 - val_loss: 1.9451 - val_weighted_acc: 0.1540\n",
      "Epoch 3/100\n",
      "2708/2708 [==============================] - 0s 12us/step - loss: 1.9444 - weighted_acc: 0.2714 - val_loss: 1.9445 - val_weighted_acc: 0.2100\n",
      "Epoch 4/100\n",
      "2708/2708 [==============================] - 0s 13us/step - loss: 1.9437 - weighted_acc: 0.2857 - val_loss: 1.9440 - val_weighted_acc: 0.2740\n",
      "Epoch 5/100\n",
      "2708/2708 [==============================] - 0s 13us/step - loss: 1.9430 - weighted_acc: 0.3429 - val_loss: 1.9435 - val_weighted_acc: 0.2900\n",
      "Epoch 6/100\n",
      "2708/2708 [==============================] - 0s 13us/step - loss: 1.9415 - weighted_acc: 0.3786 - val_loss: 1.9431 - val_weighted_acc: 0.3100\n",
      "Epoch 7/100\n",
      "2708/2708 [==============================] - 0s 13us/step - loss: 1.9405 - weighted_acc: 0.4214 - val_loss: 1.9426 - val_weighted_acc: 0.3440\n",
      "Epoch 8/100\n",
      "2708/2708 [==============================] - 0s 13us/step - loss: 1.9406 - weighted_acc: 0.4286 - val_loss: 1.9422 - val_weighted_acc: 0.3600\n",
      "Epoch 9/100\n",
      "2708/2708 [==============================] - 0s 12us/step - loss: 1.9393 - weighted_acc: 0.4357 - val_loss: 1.9418 - val_weighted_acc: 0.3500\n",
      "Epoch 10/100\n",
      "2708/2708 [==============================] - 0s 13us/step - loss: 1.9377 - weighted_acc: 0.4714 - val_loss: 1.9413 - val_weighted_acc: 0.3440\n",
      "Epoch 11/100\n",
      "2708/2708 [==============================] - 0s 22us/step - loss: 1.9368 - weighted_acc: 0.4429 - val_loss: 1.9409 - val_weighted_acc: 0.3580\n",
      "Epoch 12/100\n",
      "2708/2708 [==============================] - 0s 23us/step - loss: 1.9364 - weighted_acc: 0.3929 - val_loss: 1.9404 - val_weighted_acc: 0.3680\n",
      "Epoch 13/100\n",
      "2708/2708 [==============================] - 0s 19us/step - loss: 1.9344 - weighted_acc: 0.5286 - val_loss: 1.9399 - val_weighted_acc: 0.3860\n",
      "Epoch 14/100\n",
      "2708/2708 [==============================] - 0s 21us/step - loss: 1.9339 - weighted_acc: 0.5000 - val_loss: 1.9393 - val_weighted_acc: 0.3920\n",
      "Epoch 15/100\n",
      "2708/2708 [==============================] - 0s 16us/step - loss: 1.9321 - weighted_acc: 0.4857 - val_loss: 1.9387 - val_weighted_acc: 0.4020\n",
      "Epoch 16/100\n",
      "2708/2708 [==============================] - 0s 15us/step - loss: 1.9314 - weighted_acc: 0.4500 - val_loss: 1.9380 - val_weighted_acc: 0.4220\n",
      "Epoch 17/100\n",
      "2708/2708 [==============================] - 0s 16us/step - loss: 1.9299 - weighted_acc: 0.5071 - val_loss: 1.9373 - val_weighted_acc: 0.4360\n",
      "Epoch 18/100\n",
      "2708/2708 [==============================] - 0s 15us/step - loss: 1.9293 - weighted_acc: 0.4714 - val_loss: 1.9366 - val_weighted_acc: 0.4400\n",
      "Epoch 19/100\n",
      "2708/2708 [==============================] - 0s 14us/step - loss: 1.9285 - weighted_acc: 0.4857 - val_loss: 1.9359 - val_weighted_acc: 0.4540\n",
      "Epoch 20/100\n",
      "2708/2708 [==============================] - 0s 15us/step - loss: 1.9262 - weighted_acc: 0.5500 - val_loss: 1.9352 - val_weighted_acc: 0.4620\n",
      "Epoch 21/100\n",
      "2708/2708 [==============================] - 0s 24us/step - loss: 1.9249 - weighted_acc: 0.5071 - val_loss: 1.9345 - val_weighted_acc: 0.4780\n",
      "Epoch 22/100\n",
      "2708/2708 [==============================] - 0s 20us/step - loss: 1.9250 - weighted_acc: 0.5500 - val_loss: 1.9338 - val_weighted_acc: 0.4940\n",
      "Epoch 23/100\n",
      "2708/2708 [==============================] - 0s 24us/step - loss: 1.9215 - weighted_acc: 0.5714 - val_loss: 1.9331 - val_weighted_acc: 0.5080\n",
      "Epoch 24/100\n",
      "2708/2708 [==============================] - 0s 24us/step - loss: 1.9208 - weighted_acc: 0.6500 - val_loss: 1.9324 - val_weighted_acc: 0.5200\n",
      "Epoch 25/100\n",
      "2708/2708 [==============================] - 0s 23us/step - loss: 1.9187 - weighted_acc: 0.6214 - val_loss: 1.9317 - val_weighted_acc: 0.5220\n",
      "Epoch 26/100\n",
      "2708/2708 [==============================] - 0s 19us/step - loss: 1.9212 - weighted_acc: 0.6357 - val_loss: 1.9311 - val_weighted_acc: 0.5220\n",
      "Epoch 27/100\n",
      "2708/2708 [==============================] - 0s 18us/step - loss: 1.9169 - weighted_acc: 0.6214 - val_loss: 1.9304 - val_weighted_acc: 0.5420\n",
      "Epoch 28/100\n",
      "2708/2708 [==============================] - 0s 17us/step - loss: 1.9169 - weighted_acc: 0.6357 - val_loss: 1.9297 - val_weighted_acc: 0.5460\n",
      "Epoch 29/100\n",
      "2708/2708 [==============================] - 0s 23us/step - loss: 1.9128 - weighted_acc: 0.6857 - val_loss: 1.9291 - val_weighted_acc: 0.5560\n",
      "Epoch 30/100\n",
      "2708/2708 [==============================] - 0s 24us/step - loss: 1.9123 - weighted_acc: 0.7571 - val_loss: 1.9284 - val_weighted_acc: 0.5700\n",
      "Epoch 31/100\n",
      "2708/2708 [==============================] - 0s 23us/step - loss: 1.9115 - weighted_acc: 0.7000 - val_loss: 1.9277 - val_weighted_acc: 0.5720\n",
      "Epoch 32/100\n",
      "2708/2708 [==============================] - 0s 23us/step - loss: 1.9102 - weighted_acc: 0.7286 - val_loss: 1.9271 - val_weighted_acc: 0.5720\n",
      "Epoch 33/100\n",
      "2708/2708 [==============================] - 0s 19us/step - loss: 1.9113 - weighted_acc: 0.7071 - val_loss: 1.9264 - val_weighted_acc: 0.5720\n",
      "Epoch 34/100\n",
      "2708/2708 [==============================] - 0s 17us/step - loss: 1.9076 - weighted_acc: 0.7143 - val_loss: 1.9258 - val_weighted_acc: 0.5780\n",
      "Epoch 35/100\n",
      "2708/2708 [==============================] - 0s 15us/step - loss: 1.9055 - weighted_acc: 0.6857 - val_loss: 1.9251 - val_weighted_acc: 0.5760\n",
      "Epoch 36/100\n",
      "2708/2708 [==============================] - 0s 14us/step - loss: 1.9032 - weighted_acc: 0.7143 - val_loss: 1.9244 - val_weighted_acc: 0.5700\n",
      "Epoch 37/100\n",
      "2708/2708 [==============================] - 0s 21us/step - loss: 1.9033 - weighted_acc: 0.7500 - val_loss: 1.9237 - val_weighted_acc: 0.5620\n",
      "Epoch 38/100\n",
      "2708/2708 [==============================] - 0s 14us/step - loss: 1.9005 - weighted_acc: 0.7429 - val_loss: 1.9229 - val_weighted_acc: 0.5600\n",
      "Epoch 39/100\n",
      "2708/2708 [==============================] - 0s 14us/step - loss: 1.8986 - weighted_acc: 0.7143 - val_loss: 1.9222 - val_weighted_acc: 0.5540\n",
      "Epoch 40/100\n",
      "2708/2708 [==============================] - 0s 15us/step - loss: 1.8984 - weighted_acc: 0.7143 - val_loss: 1.9215 - val_weighted_acc: 0.5540\n",
      "Epoch 41/100\n",
      "2708/2708 [==============================] - 0s 19us/step - loss: 1.8968 - weighted_acc: 0.7143 - val_loss: 1.9208 - val_weighted_acc: 0.5560\n",
      "Epoch 42/100\n",
      "2708/2708 [==============================] - 0s 23us/step - loss: 1.8962 - weighted_acc: 0.6786 - val_loss: 1.9200 - val_weighted_acc: 0.5560\n",
      "Epoch 43/100\n",
      "2708/2708 [==============================] - 0s 24us/step - loss: 1.8936 - weighted_acc: 0.7429 - val_loss: 1.9192 - val_weighted_acc: 0.5600\n",
      "Epoch 44/100\n",
      "2708/2708 [==============================] - 0s 20us/step - loss: 1.8917 - weighted_acc: 0.8071 - val_loss: 1.9183 - val_weighted_acc: 0.5700\n",
      "Epoch 45/100\n",
      "2708/2708 [==============================] - 0s 20us/step - loss: 1.8885 - weighted_acc: 0.7571 - val_loss: 1.9175 - val_weighted_acc: 0.5720\n",
      "Epoch 46/100\n",
      "2708/2708 [==============================] - 0s 18us/step - loss: 1.8853 - weighted_acc: 0.8000 - val_loss: 1.9167 - val_weighted_acc: 0.5700\n",
      "Epoch 47/100\n",
      "2708/2708 [==============================] - 0s 16us/step - loss: 1.8868 - weighted_acc: 0.7429 - val_loss: 1.9159 - val_weighted_acc: 0.5720\n",
      "Epoch 48/100\n",
      "2708/2708 [==============================] - 0s 15us/step - loss: 1.8827 - weighted_acc: 0.7286 - val_loss: 1.9151 - val_weighted_acc: 0.5800\n",
      "Epoch 49/100\n",
      "2708/2708 [==============================] - 0s 14us/step - loss: 1.8808 - weighted_acc: 0.7714 - val_loss: 1.9142 - val_weighted_acc: 0.5800\n",
      "Epoch 50/100\n",
      "2708/2708 [==============================] - 0s 24us/step - loss: 1.8818 - weighted_acc: 0.7500 - val_loss: 1.9134 - val_weighted_acc: 0.5820\n",
      "Epoch 51/100\n",
      "2708/2708 [==============================] - 0s 15us/step - loss: 1.8820 - weighted_acc: 0.7714 - val_loss: 1.9126 - val_weighted_acc: 0.5840\n"
     ]
    },
    {
     "name": "stdout",
     "output_type": "stream",
     "text": [
      "Epoch 52/100\n",
      "2708/2708 [==============================] - 0s 13us/step - loss: 1.8801 - weighted_acc: 0.7571 - val_loss: 1.9118 - val_weighted_acc: 0.5900\n",
      "Epoch 53/100\n",
      "2708/2708 [==============================] - 0s 19us/step - loss: 1.8767 - weighted_acc: 0.7857 - val_loss: 1.9109 - val_weighted_acc: 0.5900\n",
      "Epoch 54/100\n",
      "2708/2708 [==============================] - 0s 22us/step - loss: 1.8731 - weighted_acc: 0.7857 - val_loss: 1.9100 - val_weighted_acc: 0.5980\n",
      "Epoch 55/100\n",
      "2708/2708 [==============================] - 0s 23us/step - loss: 1.8732 - weighted_acc: 0.7714 - val_loss: 1.9092 - val_weighted_acc: 0.5980\n",
      "Epoch 56/100\n",
      "2708/2708 [==============================] - 0s 19us/step - loss: 1.8696 - weighted_acc: 0.7643 - val_loss: 1.9083 - val_weighted_acc: 0.6000\n",
      "Epoch 57/100\n",
      "2708/2708 [==============================] - 0s 17us/step - loss: 1.8719 - weighted_acc: 0.7714 - val_loss: 1.9074 - val_weighted_acc: 0.6040\n",
      "Epoch 58/100\n",
      "2708/2708 [==============================] - 0s 15us/step - loss: 1.8673 - weighted_acc: 0.8214 - val_loss: 1.9065 - val_weighted_acc: 0.6020\n",
      "Epoch 59/100\n",
      "2708/2708 [==============================] - 0s 15us/step - loss: 1.8677 - weighted_acc: 0.7929 - val_loss: 1.9055 - val_weighted_acc: 0.6100\n",
      "Epoch 60/100\n",
      "2708/2708 [==============================] - 0s 14us/step - loss: 1.8650 - weighted_acc: 0.8286 - val_loss: 1.9045 - val_weighted_acc: 0.6120\n",
      "Epoch 61/100\n",
      "2708/2708 [==============================] - 0s 12us/step - loss: 1.8635 - weighted_acc: 0.7357 - val_loss: 1.9035 - val_weighted_acc: 0.6200\n",
      "Epoch 62/100\n",
      "2708/2708 [==============================] - 0s 22us/step - loss: 1.8569 - weighted_acc: 0.8214 - val_loss: 1.9025 - val_weighted_acc: 0.6200\n",
      "Epoch 63/100\n",
      "2708/2708 [==============================] - 0s 16us/step - loss: 1.8570 - weighted_acc: 0.7929 - val_loss: 1.9015 - val_weighted_acc: 0.6100\n",
      "Epoch 64/100\n",
      "2708/2708 [==============================] - 0s 13us/step - loss: 1.8519 - weighted_acc: 0.8000 - val_loss: 1.9004 - val_weighted_acc: 0.6100\n",
      "Epoch 65/100\n",
      "2708/2708 [==============================] - 0s 21us/step - loss: 1.8493 - weighted_acc: 0.8500 - val_loss: 1.8994 - val_weighted_acc: 0.6100\n",
      "Epoch 66/100\n",
      "2708/2708 [==============================] - 0s 20us/step - loss: 1.8494 - weighted_acc: 0.8286 - val_loss: 1.8984 - val_weighted_acc: 0.6100\n",
      "Epoch 67/100\n",
      "2708/2708 [==============================] - 0s 17us/step - loss: 1.8507 - weighted_acc: 0.7500 - val_loss: 1.8974 - val_weighted_acc: 0.6080\n",
      "Epoch 68/100\n",
      "2708/2708 [==============================] - 0s 24us/step - loss: 1.8464 - weighted_acc: 0.8357 - val_loss: 1.8963 - val_weighted_acc: 0.6080\n",
      "Epoch 69/100\n",
      "2708/2708 [==============================] - 0s 24us/step - loss: 1.8450 - weighted_acc: 0.8571 - val_loss: 1.8953 - val_weighted_acc: 0.6080\n",
      "Epoch 70/100\n",
      "2708/2708 [==============================] - 0s 22us/step - loss: 1.8453 - weighted_acc: 0.8000 - val_loss: 1.8943 - val_weighted_acc: 0.6080\n",
      "Epoch 71/100\n",
      "2708/2708 [==============================] - 0s 23us/step - loss: 1.8430 - weighted_acc: 0.8071 - val_loss: 1.8934 - val_weighted_acc: 0.6080\n",
      "Epoch 72/100\n",
      "2708/2708 [==============================] - 0s 23us/step - loss: 1.8421 - weighted_acc: 0.7857 - val_loss: 1.8925 - val_weighted_acc: 0.6060\n",
      "Epoch 73/100\n",
      "2708/2708 [==============================] - 0s 24us/step - loss: 1.8347 - weighted_acc: 0.7929 - val_loss: 1.8916 - val_weighted_acc: 0.6100\n",
      "Epoch 74/100\n",
      "2708/2708 [==============================] - 0s 23us/step - loss: 1.8370 - weighted_acc: 0.7929 - val_loss: 1.8906 - val_weighted_acc: 0.6080\n",
      "Epoch 75/100\n",
      "2708/2708 [==============================] - 0s 21us/step - loss: 1.8371 - weighted_acc: 0.8071 - val_loss: 1.8897 - val_weighted_acc: 0.6120\n",
      "Epoch 76/100\n",
      "2708/2708 [==============================] - 0s 17us/step - loss: 1.8343 - weighted_acc: 0.8500 - val_loss: 1.8888 - val_weighted_acc: 0.6160\n",
      "Epoch 77/100\n",
      "2708/2708 [==============================] - 0s 17us/step - loss: 1.8290 - weighted_acc: 0.8357 - val_loss: 1.8878 - val_weighted_acc: 0.6120\n",
      "Epoch 78/100\n",
      "2708/2708 [==============================] - 0s 17us/step - loss: 1.8318 - weighted_acc: 0.7929 - val_loss: 1.8869 - val_weighted_acc: 0.6140\n",
      "Epoch 79/100\n",
      "2708/2708 [==============================] - 0s 22us/step - loss: 1.8260 - weighted_acc: 0.7786 - val_loss: 1.8859 - val_weighted_acc: 0.6160\n",
      "Epoch 80/100\n",
      "2708/2708 [==============================] - 0s 22us/step - loss: 1.8244 - weighted_acc: 0.7929 - val_loss: 1.8849 - val_weighted_acc: 0.6140\n",
      "Epoch 81/100\n",
      "2708/2708 [==============================] - 0s 19us/step - loss: 1.8245 - weighted_acc: 0.8000 - val_loss: 1.8838 - val_weighted_acc: 0.6160\n",
      "Epoch 82/100\n",
      "2708/2708 [==============================] - 0s 24us/step - loss: 1.8199 - weighted_acc: 0.8000 - val_loss: 1.8827 - val_weighted_acc: 0.6160\n",
      "Epoch 83/100\n",
      "2708/2708 [==============================] - 0s 23us/step - loss: 1.8136 - weighted_acc: 0.8143 - val_loss: 1.8816 - val_weighted_acc: 0.6180\n",
      "Epoch 84/100\n",
      "2708/2708 [==============================] - 0s 19us/step - loss: 1.8109 - weighted_acc: 0.7929 - val_loss: 1.8804 - val_weighted_acc: 0.6220\n",
      "Epoch 85/100\n",
      "2708/2708 [==============================] - 0s 17us/step - loss: 1.8094 - weighted_acc: 0.8071 - val_loss: 1.8793 - val_weighted_acc: 0.6180\n",
      "Epoch 86/100\n",
      "2708/2708 [==============================] - 0s 16us/step - loss: 1.8071 - weighted_acc: 0.7857 - val_loss: 1.8782 - val_weighted_acc: 0.6180\n",
      "Epoch 87/100\n",
      "2708/2708 [==============================] - 0s 22us/step - loss: 1.8053 - weighted_acc: 0.8286 - val_loss: 1.8771 - val_weighted_acc: 0.6200\n",
      "Epoch 88/100\n",
      "2708/2708 [==============================] - 0s 23us/step - loss: 1.8123 - weighted_acc: 0.8214 - val_loss: 1.8760 - val_weighted_acc: 0.6220\n",
      "Epoch 89/100\n",
      "2708/2708 [==============================] - 0s 19us/step - loss: 1.8066 - weighted_acc: 0.7786 - val_loss: 1.8748 - val_weighted_acc: 0.6280\n",
      "Epoch 90/100\n",
      "2708/2708 [==============================] - 0s 23us/step - loss: 1.8057 - weighted_acc: 0.8143 - val_loss: 1.8736 - val_weighted_acc: 0.6280\n",
      "Epoch 91/100\n",
      "2708/2708 [==============================] - 0s 23us/step - loss: 1.7989 - weighted_acc: 0.7929 - val_loss: 1.8724 - val_weighted_acc: 0.6260\n",
      "Epoch 92/100\n",
      "2708/2708 [==============================] - 0s 23us/step - loss: 1.7936 - weighted_acc: 0.8143 - val_loss: 1.8712 - val_weighted_acc: 0.6320\n",
      "Epoch 93/100\n",
      "2708/2708 [==============================] - 0s 22us/step - loss: 1.7919 - weighted_acc: 0.8286 - val_loss: 1.8701 - val_weighted_acc: 0.6360\n",
      "Epoch 94/100\n",
      "2708/2708 [==============================] - 0s 18us/step - loss: 1.7955 - weighted_acc: 0.8071 - val_loss: 1.8689 - val_weighted_acc: 0.6380\n",
      "Epoch 95/100\n",
      "2708/2708 [==============================] - 0s 16us/step - loss: 1.7798 - weighted_acc: 0.8357 - val_loss: 1.8677 - val_weighted_acc: 0.6320\n",
      "Epoch 96/100\n",
      "2708/2708 [==============================] - 0s 15us/step - loss: 1.7896 - weighted_acc: 0.8000 - val_loss: 1.8665 - val_weighted_acc: 0.6300\n",
      "Epoch 97/100\n",
      "2708/2708 [==============================] - 0s 22us/step - loss: 1.7904 - weighted_acc: 0.7929 - val_loss: 1.8653 - val_weighted_acc: 0.6300\n",
      "Epoch 98/100\n",
      "2708/2708 [==============================] - 0s 23us/step - loss: 1.7941 - weighted_acc: 0.8071 - val_loss: 1.8641 - val_weighted_acc: 0.6360\n",
      "Epoch 99/100\n",
      "2708/2708 [==============================] - 0s 20us/step - loss: 1.7798 - weighted_acc: 0.8000 - val_loss: 1.8629 - val_weighted_acc: 0.6360\n",
      "Epoch 100/100\n",
      "2708/2708 [==============================] - 0s 23us/step - loss: 1.7871 - weighted_acc: 0.8214 - val_loss: 1.8617 - val_weighted_acc: 0.6400\n"
     ]
    },
    {
     "data": {
      "text/plain": [
       "<keras.callbacks.History at 0x7f976f654390>"
      ]
     },
     "execution_count": 7,
     "metadata": {},
     "output_type": "execute_result"
    }
   ],
   "source": [
    "# Train model\n",
    "validation_data = ([X, A], y_val, val_mask)\n",
    "model.fit([X, A],\n",
    "          y_train,\n",
    "          sample_weight=train_mask,\n",
    "          epochs=100,\n",
    "          batch_size=N,\n",
    "          validation_data=validation_data,\n",
    "          shuffle=False)  # Shuffling data means shuffling the whole graph"
   ]
  },
  {
   "cell_type": "code",
   "execution_count": 8,
   "metadata": {},
   "outputs": [
    {
     "name": "stdout",
     "output_type": "stream",
     "text": [
      "2708/2708 [==============================] - 0s 5us/step\n",
      "Done.\n",
      "Test loss: 1.8558011054992676\n",
      "Test accuracy: 0.6709999442100525\n"
     ]
    }
   ],
   "source": [
    "# Evaluate model\n",
    "eval_results = model.evaluate([X, A],\n",
    "                              y_test,\n",
    "                              sample_weight=test_mask,\n",
    "                              batch_size=N)\n",
    "print('Done.\\n'\n",
    "      'Test loss: {}\\n'\n",
    "      'Test accuracy: {}'.format(*eval_results))\n"
   ]
  },
  {
   "cell_type": "markdown",
   "metadata": {},
   "source": [
    "### Data loader:\n",
    "\n",
    "https://github.com/danielegrattarola/spektral/blob/master/spektral/datasets/qm9.py\n",
    "\n",
    "https://github.com/danielegrattarola/spektral/blob/master/examples/regression_molecules.py"
   ]
  },
  {
   "cell_type": "code",
   "execution_count": 33,
   "metadata": {},
   "outputs": [],
   "source": [
    "import matplotlib.pyplot as plt\n",
    "import numpy as np\n",
    "from keras.callbacks import EarlyStopping\n",
    "from keras.layers import Input, Dense\n",
    "from keras.models import Model\n",
    "from keras.optimizers import Adam\n",
    "from sklearn.model_selection import train_test_split\n",
    "from sklearn.preprocessing import StandardScaler\n",
    "\n",
    "from spektral.datasets import qm9\n",
    "from spektral.layers import EdgeConditionedConv, GlobalAttentionPool\n",
    "from spektral.utils import label_to_one_hot"
   ]
  },
  {
   "cell_type": "code",
   "execution_count": 34,
   "metadata": {},
   "outputs": [
    {
     "name": "stdout",
     "output_type": "stream",
     "text": [
      "Loading QM9 dataset.\n",
      "Reading SDF\n"
     ]
    },
    {
     "name": "stderr",
     "output_type": "stream",
     "text": [
      "100%|██████████| 133885/133885 [00:30<00:00, 4352.05it/s]\n"
     ]
    }
   ],
   "source": [
    "adj, nf, ef, y = qm9.load_data(return_type='numpy',\n",
    "                               nf_keys='atomic_num',\n",
    "                               ef_keys='type',\n",
    "                               self_loops=True)"
   ]
  },
  {
   "cell_type": "code",
   "execution_count": 35,
   "metadata": {},
   "outputs": [
    {
     "data": {
      "text/plain": [
       "array([[  157.7118    ,   157.70997   ,   157.70699   , ...,\n",
       "         -398.64329001,  -401.01464652,  -372.47177215],\n",
       "       [  293.60975   ,   293.54111   ,   191.39397   , ...,\n",
       "         -278.62027109,  -280.3992591 ,  -259.33880205],\n",
       "       [  799.58812   ,   437.90386   ,   282.94545   , ...,\n",
       "         -213.97429391,  -215.15965841,  -201.40717117],\n",
       "       ...,\n",
       "       [    3.67118   ,     2.14314   ,     1.89501   , ...,\n",
       "        -1678.83004849, -1688.3129645 , -1549.14339097],\n",
       "       [    3.52845   ,     2.15131   ,     1.86582   , ...,\n",
       "        -1807.21085978, -1817.2867718 , -1670.34989187],\n",
       "       [    3.64015   ,     2.21764   ,     1.93793   , ...,\n",
       "        -1614.4551552 , -1623.3450752 , -1492.24714994]])"
      ]
     },
     "execution_count": 35,
     "metadata": {},
     "output_type": "execute_result"
    }
   ],
   "source": [
    "#y_array = y[['cv']].values # Heat capacity at 298.15K\n",
    "y_array = y.iloc[:, 1:].values\n",
    "y_array"
   ]
  },
  {
   "cell_type": "code",
   "execution_count": 36,
   "metadata": {},
   "outputs": [],
   "source": [
    "# Preprocessing\n",
    "uniq_nf = np.unique(nf)\n",
    "nf = label_to_one_hot(nf, uniq_nf)\n",
    "uniq_ef = np.unique(ef)\n",
    "ef = label_to_one_hot(ef, uniq_ef)\n",
    "y_array_scaled = StandardScaler().fit_transform(y_array).reshape(-1, y_array.shape[-1])"
   ]
  },
  {
   "cell_type": "code",
   "execution_count": 37,
   "metadata": {},
   "outputs": [],
   "source": [
    "# Train/test split\n",
    "adj_train, adj_test, \\\n",
    "nf_train, nf_test,   \\\n",
    "ef_train, ef_test,   \\\n",
    "y_train, y_test = train_test_split(adj, nf, ef, y_array_scaled, test_size=0.1)"
   ]
  },
  {
   "cell_type": "code",
   "execution_count": 38,
   "metadata": {},
   "outputs": [],
   "source": [
    "# Parameters\n",
    "N = nf.shape[-2]          # Number of nodes in the graphs\n",
    "F = nf.shape[-1]          # Node features dimensionality\n",
    "S = ef.shape[-1]          # Edge features dimensionality\n",
    "n_out = y_array.shape[-1]       # Dimensionality of the target\n",
    "learning_rate = 1e-3      # Learning rate for SGD\n",
    "epochs = 25               # Number of training epochs\n",
    "batch_size = 64           # Batch size\n",
    "es_patience = 5           # Patience fot early stopping"
   ]
  },
  {
   "cell_type": "code",
   "execution_count": 39,
   "metadata": {},
   "outputs": [],
   "source": [
    "# Model definition\n",
    "nf_in = Input(shape=(N, F))\n",
    "adj_in = Input(shape=(N, N))\n",
    "ef_in = Input(shape=(N, N, S))\n",
    "\n",
    "gc1 = EdgeConditionedConv(32, activation='relu')([nf_in, adj_in, ef_in])\n",
    "gc2 = EdgeConditionedConv(64, activation='relu')([gc1, adj_in, ef_in])\n",
    "pool = GlobalAttentionPool(128)(gc2)\n",
    "dense1 = Dense(128, activation='relu')(pool)\n",
    "\n",
    "output = Dense(n_out)(dense1)"
   ]
  },
  {
   "cell_type": "code",
   "execution_count": 40,
   "metadata": {},
   "outputs": [
    {
     "name": "stdout",
     "output_type": "stream",
     "text": [
      "__________________________________________________________________________________________________\n",
      "Layer (type)                    Output Shape         Param #     Connected to                     \n",
      "==================================================================================================\n",
      "input_4 (InputLayer)            (None, 29, 6)        0                                            \n",
      "__________________________________________________________________________________________________\n",
      "input_5 (InputLayer)            (None, 29, 29)       0                                            \n",
      "__________________________________________________________________________________________________\n",
      "input_6 (InputLayer)            (None, 29, 29, 4)    0                                            \n",
      "__________________________________________________________________________________________________\n",
      "edge_conditioned_conv_3 (EdgeCo (None, 29, 32)       992         input_4[0][0]                    \n",
      "                                                                 input_5[0][0]                    \n",
      "                                                                 input_6[0][0]                    \n",
      "__________________________________________________________________________________________________\n",
      "edge_conditioned_conv_4 (EdgeCo (None, 29, 64)       10304       edge_conditioned_conv_3[0][0]    \n",
      "                                                                 input_5[0][0]                    \n",
      "                                                                 input_6[0][0]                    \n",
      "__________________________________________________________________________________________________\n",
      "global_attention_pool_2 (Global (None, 128)          16640       edge_conditioned_conv_4[0][0]    \n",
      "__________________________________________________________________________________________________\n",
      "dense_3 (Dense)                 (None, 128)          16512       global_attention_pool_2[0][0]    \n",
      "__________________________________________________________________________________________________\n",
      "dense_4 (Dense)                 (None, 19)           2451        dense_3[0][0]                    \n",
      "==================================================================================================\n",
      "Total params: 46,899\n",
      "Trainable params: 46,899\n",
      "Non-trainable params: 0\n",
      "__________________________________________________________________________________________________\n"
     ]
    }
   ],
   "source": [
    "# Build model\n",
    "model = Model(inputs=[nf_in, adj_in, ef_in], outputs=output)\n",
    "optimizer = Adam(lr=learning_rate)\n",
    "model.compile(optimizer=optimizer, loss='mse')\n",
    "model.summary()"
   ]
  },
  {
   "cell_type": "code",
   "execution_count": 41,
   "metadata": {},
   "outputs": [],
   "source": [
    "# Callbacks\n",
    "es_callback = EarlyStopping(monitor='val_loss', patience=es_patience)"
   ]
  },
  {
   "cell_type": "code",
   "execution_count": 42,
   "metadata": {},
   "outputs": [
    {
     "data": {
      "text/plain": [
       "((120496, 29, 6), (120496, 29, 29), (120496, 29, 29, 4), (120496, 19))"
      ]
     },
     "execution_count": 42,
     "metadata": {},
     "output_type": "execute_result"
    }
   ],
   "source": [
    "nf_train.shape, adj_train.shape, ef_train.shape, y_train.shape"
   ]
  },
  {
   "cell_type": "code",
   "execution_count": 43,
   "metadata": {},
   "outputs": [
    {
     "name": "stdout",
     "output_type": "stream",
     "text": [
      "Train on 108446 samples, validate on 12050 samples\n",
      "Epoch 1/25\n",
      "108446/108446 [==============================] - 109s 1ms/step - loss: 0.2481 - val_loss: 0.0896\n",
      "Epoch 2/25\n",
      "108446/108446 [==============================] - 109s 1ms/step - loss: 0.1913 - val_loss: 0.0790\n",
      "Epoch 3/25\n",
      "108446/108446 [==============================] - 109s 1ms/step - loss: 0.1824 - val_loss: 0.1104\n",
      "Epoch 4/25\n",
      "108446/108446 [==============================] - 109s 1ms/step - loss: 0.1766 - val_loss: 0.0802\n",
      "Epoch 5/25\n",
      "108446/108446 [==============================] - 109s 1ms/step - loss: 0.1719 - val_loss: 0.0719\n",
      "Epoch 6/25\n",
      "108446/108446 [==============================] - 109s 1ms/step - loss: 0.1709 - val_loss: 0.0992\n",
      "Epoch 7/25\n",
      "108446/108446 [==============================] - 109s 1ms/step - loss: 0.1764 - val_loss: 0.0850\n",
      "Epoch 8/25\n",
      "108446/108446 [==============================] - 109s 1ms/step - loss: 0.1427 - val_loss: 0.0723\n",
      "Epoch 9/25\n",
      "108446/108446 [==============================] - 109s 1ms/step - loss: 0.1578 - val_loss: 0.0707\n",
      "Epoch 10/25\n",
      "108446/108446 [==============================] - 109s 1ms/step - loss: 0.1424 - val_loss: 0.0693\n",
      "Epoch 11/25\n",
      "108446/108446 [==============================] - 109s 1ms/step - loss: 0.1324 - val_loss: 0.0856\n",
      "Epoch 12/25\n",
      "108446/108446 [==============================] - 109s 1ms/step - loss: 0.1419 - val_loss: 0.0730\n",
      "Epoch 13/25\n",
      "108446/108446 [==============================] - 109s 1ms/step - loss: 0.1400 - val_loss: 0.0618\n",
      "Epoch 14/25\n",
      "108446/108446 [==============================] - 109s 1ms/step - loss: 0.1453 - val_loss: 0.0942\n",
      "Epoch 15/25\n",
      "108446/108446 [==============================] - 109s 1ms/step - loss: 0.1321 - val_loss: 0.0655\n",
      "Epoch 16/25\n",
      "108446/108446 [==============================] - 109s 1ms/step - loss: 0.1413 - val_loss: 0.0568\n",
      "Epoch 17/25\n",
      "108446/108446 [==============================] - 109s 1ms/step - loss: 0.1307 - val_loss: 0.0796\n",
      "Epoch 18/25\n",
      "108446/108446 [==============================] - 109s 1ms/step - loss: 0.1399 - val_loss: 0.0672\n",
      "Epoch 19/25\n",
      "108446/108446 [==============================] - 109s 1ms/step - loss: 0.1293 - val_loss: 0.1221\n",
      "Epoch 20/25\n",
      "108446/108446 [==============================] - 109s 1ms/step - loss: 0.1344 - val_loss: 0.0568\n",
      "Epoch 21/25\n",
      "108446/108446 [==============================] - 109s 1ms/step - loss: 0.1308 - val_loss: 0.0995\n",
      "Epoch 22/25\n",
      "108446/108446 [==============================] - 109s 1ms/step - loss: 0.1171 - val_loss: 0.0557\n",
      "Epoch 23/25\n",
      "108446/108446 [==============================] - 109s 1ms/step - loss: 0.1227 - val_loss: 0.0569\n",
      "Epoch 24/25\n",
      "108446/108446 [==============================] - 109s 1ms/step - loss: 0.1179 - val_loss: 0.0589\n",
      "Epoch 25/25\n",
      "108446/108446 [==============================] - 109s 1ms/step - loss: 0.1195 - val_loss: 0.0500\n"
     ]
    },
    {
     "data": {
      "text/plain": [
       "<keras.callbacks.History at 0x7fda6224a0f0>"
      ]
     },
     "execution_count": 43,
     "metadata": {},
     "output_type": "execute_result"
    }
   ],
   "source": [
    "# Train model\n",
    "model.fit([nf_train, adj_train, ef_train],\n",
    "          y_train,\n",
    "          batch_size=batch_size,\n",
    "          validation_split=0.1,\n",
    "          epochs=epochs,\n",
    "          callbacks=[es_callback])"
   ]
  },
  {
   "cell_type": "code",
   "execution_count": 44,
   "metadata": {},
   "outputs": [
    {
     "name": "stdout",
     "output_type": "stream",
     "text": [
      "Evaluating model.\n",
      "13389/13389 [==============================] - 7s 508us/step\n",
      "Done.\n",
      "Test loss: 0.3709455115873798\n"
     ]
    }
   ],
   "source": [
    "# Evaluate model\n",
    "print('Evaluating model.')\n",
    "eval_results = model.evaluate([nf_test, adj_test, ef_test],\n",
    "                              y_test,\n",
    "                              batch_size=batch_size)\n",
    "print('Done.\\n'\n",
    "      'Test loss: {}'.format(eval_results))"
   ]
  },
  {
   "cell_type": "code",
   "execution_count": 54,
   "metadata": {},
   "outputs": [
    {
     "data": {
      "text/html": [
       "<div>\n",
       "<style scoped>\n",
       "    .dataframe tbody tr th:only-of-type {\n",
       "        vertical-align: middle;\n",
       "    }\n",
       "\n",
       "    .dataframe tbody tr th {\n",
       "        vertical-align: top;\n",
       "    }\n",
       "\n",
       "    .dataframe thead th {\n",
       "        text-align: right;\n",
       "    }\n",
       "</style>\n",
       "<table border=\"1\" class=\"dataframe\">\n",
       "  <thead>\n",
       "    <tr style=\"text-align: right;\">\n",
       "      <th></th>\n",
       "      <th>mol_id</th>\n",
       "      <th>A</th>\n",
       "      <th>B</th>\n",
       "      <th>C</th>\n",
       "      <th>mu</th>\n",
       "      <th>alpha</th>\n",
       "      <th>homo</th>\n",
       "      <th>lumo</th>\n",
       "      <th>gap</th>\n",
       "      <th>r2</th>\n",
       "      <th>zpve</th>\n",
       "      <th>u0</th>\n",
       "      <th>u298</th>\n",
       "      <th>h298</th>\n",
       "      <th>g298</th>\n",
       "      <th>cv</th>\n",
       "      <th>u0_atom</th>\n",
       "      <th>u298_atom</th>\n",
       "      <th>h298_atom</th>\n",
       "      <th>g298_atom</th>\n",
       "    </tr>\n",
       "  </thead>\n",
       "  <tbody>\n",
       "    <tr>\n",
       "      <th>0</th>\n",
       "      <td>gdb_1</td>\n",
       "      <td>157.71180</td>\n",
       "      <td>157.709970</td>\n",
       "      <td>157.706990</td>\n",
       "      <td>0.0000</td>\n",
       "      <td>13.21</td>\n",
       "      <td>-0.3877</td>\n",
       "      <td>0.1171</td>\n",
       "      <td>0.5048</td>\n",
       "      <td>35.3641</td>\n",
       "      <td>0.044749</td>\n",
       "      <td>-40.478930</td>\n",
       "      <td>-40.476062</td>\n",
       "      <td>-40.475117</td>\n",
       "      <td>-40.498597</td>\n",
       "      <td>6.469</td>\n",
       "      <td>-395.999595</td>\n",
       "      <td>-398.643290</td>\n",
       "      <td>-401.014647</td>\n",
       "      <td>-372.471772</td>\n",
       "    </tr>\n",
       "    <tr>\n",
       "      <th>1</th>\n",
       "      <td>gdb_2</td>\n",
       "      <td>293.60975</td>\n",
       "      <td>293.541110</td>\n",
       "      <td>191.393970</td>\n",
       "      <td>1.6256</td>\n",
       "      <td>9.46</td>\n",
       "      <td>-0.2570</td>\n",
       "      <td>0.0829</td>\n",
       "      <td>0.3399</td>\n",
       "      <td>26.1563</td>\n",
       "      <td>0.034358</td>\n",
       "      <td>-56.525887</td>\n",
       "      <td>-56.523026</td>\n",
       "      <td>-56.522082</td>\n",
       "      <td>-56.544961</td>\n",
       "      <td>6.316</td>\n",
       "      <td>-276.861363</td>\n",
       "      <td>-278.620271</td>\n",
       "      <td>-280.399259</td>\n",
       "      <td>-259.338802</td>\n",
       "    </tr>\n",
       "    <tr>\n",
       "      <th>2</th>\n",
       "      <td>gdb_3</td>\n",
       "      <td>799.58812</td>\n",
       "      <td>437.903860</td>\n",
       "      <td>282.945450</td>\n",
       "      <td>1.8511</td>\n",
       "      <td>6.31</td>\n",
       "      <td>-0.2928</td>\n",
       "      <td>0.0687</td>\n",
       "      <td>0.3615</td>\n",
       "      <td>19.0002</td>\n",
       "      <td>0.021375</td>\n",
       "      <td>-76.404702</td>\n",
       "      <td>-76.401867</td>\n",
       "      <td>-76.400922</td>\n",
       "      <td>-76.422349</td>\n",
       "      <td>6.002</td>\n",
       "      <td>-213.087624</td>\n",
       "      <td>-213.974294</td>\n",
       "      <td>-215.159658</td>\n",
       "      <td>-201.407171</td>\n",
       "    </tr>\n",
       "    <tr>\n",
       "      <th>3</th>\n",
       "      <td>gdb_4</td>\n",
       "      <td>0.00000</td>\n",
       "      <td>35.610036</td>\n",
       "      <td>35.610036</td>\n",
       "      <td>0.0000</td>\n",
       "      <td>16.28</td>\n",
       "      <td>-0.2845</td>\n",
       "      <td>0.0506</td>\n",
       "      <td>0.3351</td>\n",
       "      <td>59.5248</td>\n",
       "      <td>0.026841</td>\n",
       "      <td>-77.308427</td>\n",
       "      <td>-77.305527</td>\n",
       "      <td>-77.304583</td>\n",
       "      <td>-77.327429</td>\n",
       "      <td>8.574</td>\n",
       "      <td>-385.501997</td>\n",
       "      <td>-387.237686</td>\n",
       "      <td>-389.016047</td>\n",
       "      <td>-365.800724</td>\n",
       "    </tr>\n",
       "    <tr>\n",
       "      <th>4</th>\n",
       "      <td>gdb_5</td>\n",
       "      <td>0.00000</td>\n",
       "      <td>44.593883</td>\n",
       "      <td>44.593883</td>\n",
       "      <td>2.8937</td>\n",
       "      <td>12.99</td>\n",
       "      <td>-0.3604</td>\n",
       "      <td>0.0191</td>\n",
       "      <td>0.3796</td>\n",
       "      <td>48.7476</td>\n",
       "      <td>0.016601</td>\n",
       "      <td>-93.411888</td>\n",
       "      <td>-93.409370</td>\n",
       "      <td>-93.408425</td>\n",
       "      <td>-93.431246</td>\n",
       "      <td>6.278</td>\n",
       "      <td>-301.820534</td>\n",
       "      <td>-302.906752</td>\n",
       "      <td>-304.091489</td>\n",
       "      <td>-288.720028</td>\n",
       "    </tr>\n",
       "  </tbody>\n",
       "</table>\n",
       "</div>"
      ],
      "text/plain": [
       "  mol_id          A           B           C      mu  alpha    homo    lumo  \\\n",
       "0  gdb_1  157.71180  157.709970  157.706990  0.0000  13.21 -0.3877  0.1171   \n",
       "1  gdb_2  293.60975  293.541110  191.393970  1.6256   9.46 -0.2570  0.0829   \n",
       "2  gdb_3  799.58812  437.903860  282.945450  1.8511   6.31 -0.2928  0.0687   \n",
       "3  gdb_4    0.00000   35.610036   35.610036  0.0000  16.28 -0.2845  0.0506   \n",
       "4  gdb_5    0.00000   44.593883   44.593883  2.8937  12.99 -0.3604  0.0191   \n",
       "\n",
       "      gap       r2      zpve         u0       u298       h298       g298  \\\n",
       "0  0.5048  35.3641  0.044749 -40.478930 -40.476062 -40.475117 -40.498597   \n",
       "1  0.3399  26.1563  0.034358 -56.525887 -56.523026 -56.522082 -56.544961   \n",
       "2  0.3615  19.0002  0.021375 -76.404702 -76.401867 -76.400922 -76.422349   \n",
       "3  0.3351  59.5248  0.026841 -77.308427 -77.305527 -77.304583 -77.327429   \n",
       "4  0.3796  48.7476  0.016601 -93.411888 -93.409370 -93.408425 -93.431246   \n",
       "\n",
       "      cv     u0_atom   u298_atom   h298_atom   g298_atom  \n",
       "0  6.469 -395.999595 -398.643290 -401.014647 -372.471772  \n",
       "1  6.316 -276.861363 -278.620271 -280.399259 -259.338802  \n",
       "2  6.002 -213.087624 -213.974294 -215.159658 -201.407171  \n",
       "3  8.574 -385.501997 -387.237686 -389.016047 -365.800724  \n",
       "4  6.278 -301.820534 -302.906752 -304.091489 -288.720028  "
      ]
     },
     "execution_count": 54,
     "metadata": {},
     "output_type": "execute_result"
    }
   ],
   "source": [
    "y.head()"
   ]
  },
  {
   "cell_type": "code",
   "execution_count": 50,
   "metadata": {},
   "outputs": [
    {
     "data": {
      "text/plain": [
       "((13389, 19), (13389, 19))"
      ]
     },
     "execution_count": 50,
     "metadata": {},
     "output_type": "execute_result"
    }
   ],
   "source": [
    "preds.shape, y_test.shape"
   ]
  },
  {
   "cell_type": "code",
   "execution_count": 57,
   "metadata": {},
   "outputs": [],
   "source": [
    "# Plot predictions\n",
    "preds = model.predict([nf_test, adj_test, ef_test])"
   ]
  },
  {
   "cell_type": "code",
   "execution_count": 55,
   "metadata": {},
   "outputs": [
    {
     "data": {
      "text/plain": [
       "Text(0, 0.5, 'Actual')"
      ]
     },
     "execution_count": 55,
     "metadata": {},
     "output_type": "execute_result"
    },
    {
     "data": {
      "image/png": "[encoded data removed]",
      "text/plain": [
       "<Figure size 432x288 with 1 Axes>"
      ]
     },
     "metadata": {
      "needs_background": "light"
     },
     "output_type": "display_data"
    }
   ],
   "source": [
    "plt.figure()\n",
    "plt.scatter(preds[:,-5], y_test[:,-5], alpha=0.3)\n",
    "plt.plot(range(-6, 6), range(-6, 6))\n",
    "plt.xlabel('Predicted')\n",
    "plt.ylabel('Actual')\n",
    "#plt.savefig('pred_v_true.png')"
   ]
  },
  {
   "cell_type": "code",
   "execution_count": 56,
   "metadata": {},
   "outputs": [
    {
     "data": {
      "text/plain": [
       "0.1651348761879315"
      ]
     },
     "execution_count": 56,
     "metadata": {},
     "output_type": "execute_result"
    }
   ],
   "source": [
    "np.sqrt( np.sum( (preds[:,-5] - y_test[:,-5])**2 ) / preds.shape[0] )"
   ]
  },
  {
   "cell_type": "code",
   "execution_count": 30,
   "metadata": {},
   "outputs": [
    {
     "data": {
      "text/plain": [
       "0.11946759377970118"
      ]
     },
     "execution_count": 30,
     "metadata": {},
     "output_type": "execute_result"
    }
   ],
   "source": [
    "np.sqrt( np.sum( (preds - y_test)**2 ) / preds.shape[0] )"
   ]
  },
  {
   "cell_type": "code",
   "execution_count": null,
   "metadata": {},
   "outputs": [],
   "source": []
  },
  {
   "cell_type": "code",
   "execution_count": 58,
   "metadata": {},
   "outputs": [
    {
     "data": {
      "text/plain": [
       "0.08124633166564237"
      ]
     },
     "execution_count": 58,
     "metadata": {},
     "output_type": "execute_result"
    }
   ],
   "source": [
    "np.sqrt( np.sum( (preds[:,-4] - y_test[:,-4])**2 ) / preds.shape[0] )"
   ]
  },
  {
   "cell_type": "code",
   "execution_count": 59,
   "metadata": {},
   "outputs": [
    {
     "data": {
      "text/plain": [
       "0.08613860009925375"
      ]
     },
     "execution_count": 59,
     "metadata": {},
     "output_type": "execute_result"
    }
   ],
   "source": [
    "np.sqrt( np.sum( (preds[:,-3] - y_test[:,-3])**2 ) / preds.shape[0] )"
   ]
  },
  {
   "cell_type": "code",
   "execution_count": 60,
   "metadata": {},
   "outputs": [
    {
     "data": {
      "text/plain": [
       "0.08031927784362079"
      ]
     },
     "execution_count": 60,
     "metadata": {},
     "output_type": "execute_result"
    }
   ],
   "source": [
    "np.sqrt( np.sum( (preds[:,-2] - y_test[:,-2])**2 ) / preds.shape[0] )"
   ]
  },
  {
   "cell_type": "code",
   "execution_count": 61,
   "metadata": {},
   "outputs": [
    {
     "data": {
      "text/plain": [
       "0.07381313047415901"
      ]
     },
     "execution_count": 61,
     "metadata": {},
     "output_type": "execute_result"
    }
   ],
   "source": [
    "np.sqrt( np.sum( (preds[:,-1] - y_test[:,-1])**2 ) / preds.shape[0] )"
   ]
  },
  {
   "cell_type": "code",
   "execution_count": null,
   "metadata": {},
   "outputs": [],
   "source": []
  }
 ],
 "metadata": {
  "kernelspec": {
   "display_name": "Python 3",
   "language": "python",
   "name": "python3"
  },
  "language_info": {
   "codemirror_mode": {
    "name": "ipython",
    "version": 3
   },
   "file_extension": ".py",
   "mimetype": "text/x-python",
   "name": "python",
   "nbconvert_exporter": "python",
   "pygments_lexer": "ipython3",
   "version": "3.5.2"
  }
 },
 "nbformat": 4,
 "nbformat_minor": 2
}
