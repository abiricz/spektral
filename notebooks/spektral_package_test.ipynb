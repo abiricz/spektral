{
 "cells": [
  {
   "cell_type": "code",
   "execution_count": 1,
   "metadata": {},
   "outputs": [
    {
     "name": "stderr",
     "output_type": "stream",
     "text": [
      "Using TensorFlow backend.\n"
     ]
    }
   ],
   "source": [
    "#from spektral.datasets import citation\n",
    "import spektral\n",
    "import numpy as np\n",
    "import scipy as sc\n",
    "import matplotlib.pyplot as plt\n",
    "\n",
    "from spektral.layers import GraphConv\n",
    "from spektral import utils\n",
    "\n",
    "from keras.models import Model\n",
    "from keras.layers import Input, Dropout"
   ]
  },
  {
   "cell_type": "markdown",
   "metadata": {},
   "source": [
    "### Source:\n",
    "https://danielegrattarola.github.io/spektral/getting-started/"
   ]
  },
  {
   "cell_type": "markdown",
   "metadata": {},
   "source": [
    "### Some test"
   ]
  },
  {
   "cell_type": "code",
   "execution_count": 2,
   "metadata": {},
   "outputs": [
    {
     "name": "stdout",
     "output_type": "stream",
     "text": [
      "Loading cora dataset\n",
      "Pre-processing node features\n"
     ]
    }
   ],
   "source": [
    "data = spektral.datasets.citation.load_data('cora')\n",
    "A, X, y_train, y_val, y_test, train_mask, val_mask, test_mask = data\n",
    "\n",
    "N = A.shape[0]\n",
    "F = X.shape[-1]\n",
    "n_classes = y_train.shape[-1]"
   ]
  },
  {
   "cell_type": "code",
   "execution_count": 3,
   "metadata": {},
   "outputs": [
    {
     "data": {
      "text/plain": [
       "((2708, 2708), (2708, 1433), (2708, 7), (2708, 7), (2708,), (2708,), (2708,))"
      ]
     },
     "execution_count": 3,
     "metadata": {},
     "output_type": "execute_result"
    }
   ],
   "source": [
    "A.shape, X.shape, y_val.shape, y_test.shape, train_mask.shape, val_mask.shape, test_mask.shape"
   ]
  },
  {
   "cell_type": "code",
   "execution_count": 4,
   "metadata": {},
   "outputs": [
    {
     "name": "stdout",
     "output_type": "stream",
     "text": [
      "WARNING:tensorflow:From /home/abiricz/.local/lib/python3.5/site-packages/tensorflow/python/framework/op_def_library.py:263: colocate_with (from tensorflow.python.framework.ops) is deprecated and will be removed in a future version.\n",
      "Instructions for updating:\n",
      "Colocations handled automatically by placer.\n",
      "WARNING:tensorflow:From /home/abiricz/.local/lib/python3.5/site-packages/keras/backend/tensorflow_backend.py:3445: calling dropout (from tensorflow.python.ops.nn_ops) with keep_prob is deprecated and will be removed in a future version.\n",
      "Instructions for updating:\n",
      "Please use `rate` instead of `keep_prob`. Rate should be set to `rate = 1 - keep_prob`.\n"
     ]
    }
   ],
   "source": [
    "# Model definition\n",
    "X_in = Input(shape=(F, ))  # Input layer for X\n",
    "A_in = Input((N, ), sparse=True)  # Input layer for A\n",
    "\n",
    "graph_conv_1 = GraphConv(16, activation='relu')([X_in, A_in])\n",
    "dropout = Dropout(0.5)(graph_conv_1)\n",
    "graph_conv_2 = GraphConv(n_classes, activation='softmax')([dropout, A_in])\n",
    "\n",
    "# Build model\n",
    "model = Model(inputs=[X_in, A_in], outputs=graph_conv_2)"
   ]
  },
  {
   "cell_type": "code",
   "execution_count": 5,
   "metadata": {},
   "outputs": [],
   "source": [
    "A = utils.localpooling_filter(A)"
   ]
  },
  {
   "cell_type": "code",
   "execution_count": 6,
   "metadata": {
    "scrolled": true
   },
   "outputs": [
    {
     "name": "stdout",
     "output_type": "stream",
     "text": [
      "__________________________________________________________________________________________________\n",
      "Layer (type)                    Output Shape         Param #     Connected to                     \n",
      "==================================================================================================\n",
      "input_1 (InputLayer)            (None, 1433)         0                                            \n",
      "__________________________________________________________________________________________________\n",
      "input_2 (InputLayer)            (None, 2708)         0                                            \n",
      "__________________________________________________________________________________________________\n",
      "graph_conv_1 (GraphConv)        (None, 16)           22944       input_1[0][0]                    \n",
      "                                                                 input_2[0][0]                    \n",
      "__________________________________________________________________________________________________\n",
      "dropout_1 (Dropout)             (None, 16)           0           graph_conv_1[0][0]               \n",
      "__________________________________________________________________________________________________\n",
      "graph_conv_2 (GraphConv)        (None, 7)            119         dropout_1[0][0]                  \n",
      "                                                                 input_2[0][0]                    \n",
      "==================================================================================================\n",
      "Total params: 23,063\n",
      "Trainable params: 23,063\n",
      "Non-trainable params: 0\n",
      "__________________________________________________________________________________________________\n"
     ]
    }
   ],
   "source": [
    "model.compile(optimizer='adam',\n",
    "              loss='categorical_crossentropy',\n",
    "              weighted_metrics=['acc'])\n",
    "model.summary()"
   ]
  },
  {
   "cell_type": "code",
   "execution_count": 7,
   "metadata": {},
   "outputs": [
    {
     "name": "stdout",
     "output_type": "stream",
     "text": [
      "WARNING:tensorflow:From /home/abiricz/.local/lib/python3.5/site-packages/tensorflow/python/ops/math_ops.py:3066: to_int32 (from tensorflow.python.ops.math_ops) is deprecated and will be removed in a future version.\n",
      "Instructions for updating:\n",
      "Use tf.cast instead.\n",
      "Train on 2708 samples, validate on 2708 samples\n",
      "Epoch 1/100\n",
      "2708/2708 [==============================] - 1s 437us/step - loss: 1.9461 - weighted_acc: 0.1929 - val_loss: 1.9457 - val_weighted_acc: 0.1260\n",
      "Epoch 2/100\n",
      "2708/2708 [==============================] - 0s 13us/step - loss: 1.9453 - weighted_acc: 0.2429 - val_loss: 1.9451 - val_weighted_acc: 0.1540\n",
      "Epoch 3/100\n",
      "2708/2708 [==============================] - 0s 12us/step - loss: 1.9444 - weighted_acc: 0.2714 - val_loss: 1.9445 - val_weighted_acc: 0.2100\n",
      "Epoch 4/100\n",
      "2708/2708 [==============================] - 0s 13us/step - loss: 1.9437 - weighted_acc: 0.2857 - val_loss: 1.9440 - val_weighted_acc: 0.2740\n",
      "Epoch 5/100\n",
      "2708/2708 [==============================] - 0s 13us/step - loss: 1.9430 - weighted_acc: 0.3429 - val_loss: 1.9435 - val_weighted_acc: 0.2900\n",
      "Epoch 6/100\n",
      "2708/2708 [==============================] - 0s 13us/step - loss: 1.9415 - weighted_acc: 0.3786 - val_loss: 1.9431 - val_weighted_acc: 0.3100\n",
      "Epoch 7/100\n",
      "2708/2708 [==============================] - 0s 13us/step - loss: 1.9405 - weighted_acc: 0.4214 - val_loss: 1.9426 - val_weighted_acc: 0.3440\n",
      "Epoch 8/100\n",
      "2708/2708 [==============================] - 0s 13us/step - loss: 1.9406 - weighted_acc: 0.4286 - val_loss: 1.9422 - val_weighted_acc: 0.3600\n",
      "Epoch 9/100\n",
      "2708/2708 [==============================] - 0s 12us/step - loss: 1.9393 - weighted_acc: 0.4357 - val_loss: 1.9418 - val_weighted_acc: 0.3500\n",
      "Epoch 10/100\n",
      "2708/2708 [==============================] - 0s 13us/step - loss: 1.9377 - weighted_acc: 0.4714 - val_loss: 1.9413 - val_weighted_acc: 0.3440\n",
      "Epoch 11/100\n",
      "2708/2708 [==============================] - 0s 22us/step - loss: 1.9368 - weighted_acc: 0.4429 - val_loss: 1.9409 - val_weighted_acc: 0.3580\n",
      "Epoch 12/100\n",
      "2708/2708 [==============================] - 0s 23us/step - loss: 1.9364 - weighted_acc: 0.3929 - val_loss: 1.9404 - val_weighted_acc: 0.3680\n",
      "Epoch 13/100\n",
      "2708/2708 [==============================] - 0s 19us/step - loss: 1.9344 - weighted_acc: 0.5286 - val_loss: 1.9399 - val_weighted_acc: 0.3860\n",
      "Epoch 14/100\n",
      "2708/2708 [==============================] - 0s 21us/step - loss: 1.9339 - weighted_acc: 0.5000 - val_loss: 1.9393 - val_weighted_acc: 0.3920\n",
      "Epoch 15/100\n",
      "2708/2708 [==============================] - 0s 16us/step - loss: 1.9321 - weighted_acc: 0.4857 - val_loss: 1.9387 - val_weighted_acc: 0.4020\n",
      "Epoch 16/100\n",
      "2708/2708 [==============================] - 0s 15us/step - loss: 1.9314 - weighted_acc: 0.4500 - val_loss: 1.9380 - val_weighted_acc: 0.4220\n",
      "Epoch 17/100\n",
      "2708/2708 [==============================] - 0s 16us/step - loss: 1.9299 - weighted_acc: 0.5071 - val_loss: 1.9373 - val_weighted_acc: 0.4360\n",
      "Epoch 18/100\n",
      "2708/2708 [==============================] - 0s 15us/step - loss: 1.9293 - weighted_acc: 0.4714 - val_loss: 1.9366 - val_weighted_acc: 0.4400\n",
      "Epoch 19/100\n",
      "2708/2708 [==============================] - 0s 14us/step - loss: 1.9285 - weighted_acc: 0.4857 - val_loss: 1.9359 - val_weighted_acc: 0.4540\n",
      "Epoch 20/100\n",
      "2708/2708 [==============================] - 0s 15us/step - loss: 1.9262 - weighted_acc: 0.5500 - val_loss: 1.9352 - val_weighted_acc: 0.4620\n",
      "Epoch 21/100\n",
      "2708/2708 [==============================] - 0s 24us/step - loss: 1.9249 - weighted_acc: 0.5071 - val_loss: 1.9345 - val_weighted_acc: 0.4780\n",
      "Epoch 22/100\n",
      "2708/2708 [==============================] - 0s 20us/step - loss: 1.9250 - weighted_acc: 0.5500 - val_loss: 1.9338 - val_weighted_acc: 0.4940\n",
      "Epoch 23/100\n",
      "2708/2708 [==============================] - 0s 24us/step - loss: 1.9215 - weighted_acc: 0.5714 - val_loss: 1.9331 - val_weighted_acc: 0.5080\n",
      "Epoch 24/100\n",
      "2708/2708 [==============================] - 0s 24us/step - loss: 1.9208 - weighted_acc: 0.6500 - val_loss: 1.9324 - val_weighted_acc: 0.5200\n",
      "Epoch 25/100\n",
      "2708/2708 [==============================] - 0s 23us/step - loss: 1.9187 - weighted_acc: 0.6214 - val_loss: 1.9317 - val_weighted_acc: 0.5220\n",
      "Epoch 26/100\n",
      "2708/2708 [==============================] - 0s 19us/step - loss: 1.9212 - weighted_acc: 0.6357 - val_loss: 1.9311 - val_weighted_acc: 0.5220\n",
      "Epoch 27/100\n",
      "2708/2708 [==============================] - 0s 18us/step - loss: 1.9169 - weighted_acc: 0.6214 - val_loss: 1.9304 - val_weighted_acc: 0.5420\n",
      "Epoch 28/100\n",
      "2708/2708 [==============================] - 0s 17us/step - loss: 1.9169 - weighted_acc: 0.6357 - val_loss: 1.9297 - val_weighted_acc: 0.5460\n",
      "Epoch 29/100\n",
      "2708/2708 [==============================] - 0s 23us/step - loss: 1.9128 - weighted_acc: 0.6857 - val_loss: 1.9291 - val_weighted_acc: 0.5560\n",
      "Epoch 30/100\n",
      "2708/2708 [==============================] - 0s 24us/step - loss: 1.9123 - weighted_acc: 0.7571 - val_loss: 1.9284 - val_weighted_acc: 0.5700\n",
      "Epoch 31/100\n",
      "2708/2708 [==============================] - 0s 23us/step - loss: 1.9115 - weighted_acc: 0.7000 - val_loss: 1.9277 - val_weighted_acc: 0.5720\n",
      "Epoch 32/100\n",
      "2708/2708 [==============================] - 0s 23us/step - loss: 1.9102 - weighted_acc: 0.7286 - val_loss: 1.9271 - val_weighted_acc: 0.5720\n",
      "Epoch 33/100\n",
      "2708/2708 [==============================] - 0s 19us/step - loss: 1.9113 - weighted_acc: 0.7071 - val_loss: 1.9264 - val_weighted_acc: 0.5720\n",
      "Epoch 34/100\n",
      "2708/2708 [==============================] - 0s 17us/step - loss: 1.9076 - weighted_acc: 0.7143 - val_loss: 1.9258 - val_weighted_acc: 0.5780\n",
      "Epoch 35/100\n",
      "2708/2708 [==============================] - 0s 15us/step - loss: 1.9055 - weighted_acc: 0.6857 - val_loss: 1.9251 - val_weighted_acc: 0.5760\n",
      "Epoch 36/100\n",
      "2708/2708 [==============================] - 0s 14us/step - loss: 1.9032 - weighted_acc: 0.7143 - val_loss: 1.9244 - val_weighted_acc: 0.5700\n",
      "Epoch 37/100\n",
      "2708/2708 [==============================] - 0s 21us/step - loss: 1.9033 - weighted_acc: 0.7500 - val_loss: 1.9237 - val_weighted_acc: 0.5620\n",
      "Epoch 38/100\n",
      "2708/2708 [==============================] - 0s 14us/step - loss: 1.9005 - weighted_acc: 0.7429 - val_loss: 1.9229 - val_weighted_acc: 0.5600\n",
      "Epoch 39/100\n",
      "2708/2708 [==============================] - 0s 14us/step - loss: 1.8986 - weighted_acc: 0.7143 - val_loss: 1.9222 - val_weighted_acc: 0.5540\n",
      "Epoch 40/100\n",
      "2708/2708 [==============================] - 0s 15us/step - loss: 1.8984 - weighted_acc: 0.7143 - val_loss: 1.9215 - val_weighted_acc: 0.5540\n",
      "Epoch 41/100\n",
      "2708/2708 [==============================] - 0s 19us/step - loss: 1.8968 - weighted_acc: 0.7143 - val_loss: 1.9208 - val_weighted_acc: 0.5560\n",
      "Epoch 42/100\n",
      "2708/2708 [==============================] - 0s 23us/step - loss: 1.8962 - weighted_acc: 0.6786 - val_loss: 1.9200 - val_weighted_acc: 0.5560\n",
      "Epoch 43/100\n",
      "2708/2708 [==============================] - 0s 24us/step - loss: 1.8936 - weighted_acc: 0.7429 - val_loss: 1.9192 - val_weighted_acc: 0.5600\n",
      "Epoch 44/100\n",
      "2708/2708 [==============================] - 0s 20us/step - loss: 1.8917 - weighted_acc: 0.8071 - val_loss: 1.9183 - val_weighted_acc: 0.5700\n",
      "Epoch 45/100\n",
      "2708/2708 [==============================] - 0s 20us/step - loss: 1.8885 - weighted_acc: 0.7571 - val_loss: 1.9175 - val_weighted_acc: 0.5720\n",
      "Epoch 46/100\n",
      "2708/2708 [==============================] - 0s 18us/step - loss: 1.8853 - weighted_acc: 0.8000 - val_loss: 1.9167 - val_weighted_acc: 0.5700\n",
      "Epoch 47/100\n",
      "2708/2708 [==============================] - 0s 16us/step - loss: 1.8868 - weighted_acc: 0.7429 - val_loss: 1.9159 - val_weighted_acc: 0.5720\n",
      "Epoch 48/100\n",
      "2708/2708 [==============================] - 0s 15us/step - loss: 1.8827 - weighted_acc: 0.7286 - val_loss: 1.9151 - val_weighted_acc: 0.5800\n",
      "Epoch 49/100\n",
      "2708/2708 [==============================] - 0s 14us/step - loss: 1.8808 - weighted_acc: 0.7714 - val_loss: 1.9142 - val_weighted_acc: 0.5800\n",
      "Epoch 50/100\n",
      "2708/2708 [==============================] - 0s 24us/step - loss: 1.8818 - weighted_acc: 0.7500 - val_loss: 1.9134 - val_weighted_acc: 0.5820\n",
      "Epoch 51/100\n",
      "2708/2708 [==============================] - 0s 15us/step - loss: 1.8820 - weighted_acc: 0.7714 - val_loss: 1.9126 - val_weighted_acc: 0.5840\n"
     ]
    },
    {
     "name": "stdout",
     "output_type": "stream",
     "text": [
      "Epoch 52/100\n",
      "2708/2708 [==============================] - 0s 13us/step - loss: 1.8801 - weighted_acc: 0.7571 - val_loss: 1.9118 - val_weighted_acc: 0.5900\n",
      "Epoch 53/100\n",
      "2708/2708 [==============================] - 0s 19us/step - loss: 1.8767 - weighted_acc: 0.7857 - val_loss: 1.9109 - val_weighted_acc: 0.5900\n",
      "Epoch 54/100\n",
      "2708/2708 [==============================] - 0s 22us/step - loss: 1.8731 - weighted_acc: 0.7857 - val_loss: 1.9100 - val_weighted_acc: 0.5980\n",
      "Epoch 55/100\n",
      "2708/2708 [==============================] - 0s 23us/step - loss: 1.8732 - weighted_acc: 0.7714 - val_loss: 1.9092 - val_weighted_acc: 0.5980\n",
      "Epoch 56/100\n",
      "2708/2708 [==============================] - 0s 19us/step - loss: 1.8696 - weighted_acc: 0.7643 - val_loss: 1.9083 - val_weighted_acc: 0.6000\n",
      "Epoch 57/100\n",
      "2708/2708 [==============================] - 0s 17us/step - loss: 1.8719 - weighted_acc: 0.7714 - val_loss: 1.9074 - val_weighted_acc: 0.6040\n",
      "Epoch 58/100\n",
      "2708/2708 [==============================] - 0s 15us/step - loss: 1.8673 - weighted_acc: 0.8214 - val_loss: 1.9065 - val_weighted_acc: 0.6020\n",
      "Epoch 59/100\n",
      "2708/2708 [==============================] - 0s 15us/step - loss: 1.8677 - weighted_acc: 0.7929 - val_loss: 1.9055 - val_weighted_acc: 0.6100\n",
      "Epoch 60/100\n",
      "2708/2708 [==============================] - 0s 14us/step - loss: 1.8650 - weighted_acc: 0.8286 - val_loss: 1.9045 - val_weighted_acc: 0.6120\n",
      "Epoch 61/100\n",
      "2708/2708 [==============================] - 0s 12us/step - loss: 1.8635 - weighted_acc: 0.7357 - val_loss: 1.9035 - val_weighted_acc: 0.6200\n",
      "Epoch 62/100\n",
      "2708/2708 [==============================] - 0s 22us/step - loss: 1.8569 - weighted_acc: 0.8214 - val_loss: 1.9025 - val_weighted_acc: 0.6200\n",
      "Epoch 63/100\n",
      "2708/2708 [==============================] - 0s 16us/step - loss: 1.8570 - weighted_acc: 0.7929 - val_loss: 1.9015 - val_weighted_acc: 0.6100\n",
      "Epoch 64/100\n",
      "2708/2708 [==============================] - 0s 13us/step - loss: 1.8519 - weighted_acc: 0.8000 - val_loss: 1.9004 - val_weighted_acc: 0.6100\n",
      "Epoch 65/100\n",
      "2708/2708 [==============================] - 0s 21us/step - loss: 1.8493 - weighted_acc: 0.8500 - val_loss: 1.8994 - val_weighted_acc: 0.6100\n",
      "Epoch 66/100\n",
      "2708/2708 [==============================] - 0s 20us/step - loss: 1.8494 - weighted_acc: 0.8286 - val_loss: 1.8984 - val_weighted_acc: 0.6100\n",
      "Epoch 67/100\n",
      "2708/2708 [==============================] - 0s 17us/step - loss: 1.8507 - weighted_acc: 0.7500 - val_loss: 1.8974 - val_weighted_acc: 0.6080\n",
      "Epoch 68/100\n",
      "2708/2708 [==============================] - 0s 24us/step - loss: 1.8464 - weighted_acc: 0.8357 - val_loss: 1.8963 - val_weighted_acc: 0.6080\n",
      "Epoch 69/100\n",
      "2708/2708 [==============================] - 0s 24us/step - loss: 1.8450 - weighted_acc: 0.8571 - val_loss: 1.8953 - val_weighted_acc: 0.6080\n",
      "Epoch 70/100\n",
      "2708/2708 [==============================] - 0s 22us/step - loss: 1.8453 - weighted_acc: 0.8000 - val_loss: 1.8943 - val_weighted_acc: 0.6080\n",
      "Epoch 71/100\n",
      "2708/2708 [==============================] - 0s 23us/step - loss: 1.8430 - weighted_acc: 0.8071 - val_loss: 1.8934 - val_weighted_acc: 0.6080\n",
      "Epoch 72/100\n",
      "2708/2708 [==============================] - 0s 23us/step - loss: 1.8421 - weighted_acc: 0.7857 - val_loss: 1.8925 - val_weighted_acc: 0.6060\n",
      "Epoch 73/100\n",
      "2708/2708 [==============================] - 0s 24us/step - loss: 1.8347 - weighted_acc: 0.7929 - val_loss: 1.8916 - val_weighted_acc: 0.6100\n",
      "Epoch 74/100\n",
      "2708/2708 [==============================] - 0s 23us/step - loss: 1.8370 - weighted_acc: 0.7929 - val_loss: 1.8906 - val_weighted_acc: 0.6080\n",
      "Epoch 75/100\n",
      "2708/2708 [==============================] - 0s 21us/step - loss: 1.8371 - weighted_acc: 0.8071 - val_loss: 1.8897 - val_weighted_acc: 0.6120\n",
      "Epoch 76/100\n",
      "2708/2708 [==============================] - 0s 17us/step - loss: 1.8343 - weighted_acc: 0.8500 - val_loss: 1.8888 - val_weighted_acc: 0.6160\n",
      "Epoch 77/100\n",
      "2708/2708 [==============================] - 0s 17us/step - loss: 1.8290 - weighted_acc: 0.8357 - val_loss: 1.8878 - val_weighted_acc: 0.6120\n",
      "Epoch 78/100\n",
      "2708/2708 [==============================] - 0s 17us/step - loss: 1.8318 - weighted_acc: 0.7929 - val_loss: 1.8869 - val_weighted_acc: 0.6140\n",
      "Epoch 79/100\n",
      "2708/2708 [==============================] - 0s 22us/step - loss: 1.8260 - weighted_acc: 0.7786 - val_loss: 1.8859 - val_weighted_acc: 0.6160\n",
      "Epoch 80/100\n",
      "2708/2708 [==============================] - 0s 22us/step - loss: 1.8244 - weighted_acc: 0.7929 - val_loss: 1.8849 - val_weighted_acc: 0.6140\n",
      "Epoch 81/100\n",
      "2708/2708 [==============================] - 0s 19us/step - loss: 1.8245 - weighted_acc: 0.8000 - val_loss: 1.8838 - val_weighted_acc: 0.6160\n",
      "Epoch 82/100\n",
      "2708/2708 [==============================] - 0s 24us/step - loss: 1.8199 - weighted_acc: 0.8000 - val_loss: 1.8827 - val_weighted_acc: 0.6160\n",
      "Epoch 83/100\n",
      "2708/2708 [==============================] - 0s 23us/step - loss: 1.8136 - weighted_acc: 0.8143 - val_loss: 1.8816 - val_weighted_acc: 0.6180\n",
      "Epoch 84/100\n",
      "2708/2708 [==============================] - 0s 19us/step - loss: 1.8109 - weighted_acc: 0.7929 - val_loss: 1.8804 - val_weighted_acc: 0.6220\n",
      "Epoch 85/100\n",
      "2708/2708 [==============================] - 0s 17us/step - loss: 1.8094 - weighted_acc: 0.8071 - val_loss: 1.8793 - val_weighted_acc: 0.6180\n",
      "Epoch 86/100\n",
      "2708/2708 [==============================] - 0s 16us/step - loss: 1.8071 - weighted_acc: 0.7857 - val_loss: 1.8782 - val_weighted_acc: 0.6180\n",
      "Epoch 87/100\n",
      "2708/2708 [==============================] - 0s 22us/step - loss: 1.8053 - weighted_acc: 0.8286 - val_loss: 1.8771 - val_weighted_acc: 0.6200\n",
      "Epoch 88/100\n",
      "2708/2708 [==============================] - 0s 23us/step - loss: 1.8123 - weighted_acc: 0.8214 - val_loss: 1.8760 - val_weighted_acc: 0.6220\n",
      "Epoch 89/100\n",
      "2708/2708 [==============================] - 0s 19us/step - loss: 1.8066 - weighted_acc: 0.7786 - val_loss: 1.8748 - val_weighted_acc: 0.6280\n",
      "Epoch 90/100\n",
      "2708/2708 [==============================] - 0s 23us/step - loss: 1.8057 - weighted_acc: 0.8143 - val_loss: 1.8736 - val_weighted_acc: 0.6280\n",
      "Epoch 91/100\n",
      "2708/2708 [==============================] - 0s 23us/step - loss: 1.7989 - weighted_acc: 0.7929 - val_loss: 1.8724 - val_weighted_acc: 0.6260\n",
      "Epoch 92/100\n",
      "2708/2708 [==============================] - 0s 23us/step - loss: 1.7936 - weighted_acc: 0.8143 - val_loss: 1.8712 - val_weighted_acc: 0.6320\n",
      "Epoch 93/100\n",
      "2708/2708 [==============================] - 0s 22us/step - loss: 1.7919 - weighted_acc: 0.8286 - val_loss: 1.8701 - val_weighted_acc: 0.6360\n",
      "Epoch 94/100\n",
      "2708/2708 [==============================] - 0s 18us/step - loss: 1.7955 - weighted_acc: 0.8071 - val_loss: 1.8689 - val_weighted_acc: 0.6380\n",
      "Epoch 95/100\n",
      "2708/2708 [==============================] - 0s 16us/step - loss: 1.7798 - weighted_acc: 0.8357 - val_loss: 1.8677 - val_weighted_acc: 0.6320\n",
      "Epoch 96/100\n",
      "2708/2708 [==============================] - 0s 15us/step - loss: 1.7896 - weighted_acc: 0.8000 - val_loss: 1.8665 - val_weighted_acc: 0.6300\n",
      "Epoch 97/100\n",
      "2708/2708 [==============================] - 0s 22us/step - loss: 1.7904 - weighted_acc: 0.7929 - val_loss: 1.8653 - val_weighted_acc: 0.6300\n",
      "Epoch 98/100\n",
      "2708/2708 [==============================] - 0s 23us/step - loss: 1.7941 - weighted_acc: 0.8071 - val_loss: 1.8641 - val_weighted_acc: 0.6360\n",
      "Epoch 99/100\n",
      "2708/2708 [==============================] - 0s 20us/step - loss: 1.7798 - weighted_acc: 0.8000 - val_loss: 1.8629 - val_weighted_acc: 0.6360\n",
      "Epoch 100/100\n",
      "2708/2708 [==============================] - 0s 23us/step - loss: 1.7871 - weighted_acc: 0.8214 - val_loss: 1.8617 - val_weighted_acc: 0.6400\n"
     ]
    },
    {
     "data": {
      "text/plain": [
       "<keras.callbacks.History at 0x7f976f654390>"
      ]
     },
     "execution_count": 7,
     "metadata": {},
     "output_type": "execute_result"
    }
   ],
   "source": [
    "# Train model\n",
    "validation_data = ([X, A], y_val, val_mask)\n",
    "model.fit([X, A],\n",
    "          y_train,\n",
    "          sample_weight=train_mask,\n",
    "          epochs=100,\n",
    "          batch_size=N,\n",
    "          validation_data=validation_data,\n",
    "          shuffle=False)  # Shuffling data means shuffling the whole graph"
   ]
  },
  {
   "cell_type": "code",
   "execution_count": 8,
   "metadata": {},
   "outputs": [
    {
     "name": "stdout",
     "output_type": "stream",
     "text": [
      "2708/2708 [==============================] - 0s 5us/step\n",
      "Done.\n",
      "Test loss: 1.8558011054992676\n",
      "Test accuracy: 0.6709999442100525\n"
     ]
    }
   ],
   "source": [
    "# Evaluate model\n",
    "eval_results = model.evaluate([X, A],\n",
    "                              y_test,\n",
    "                              sample_weight=test_mask,\n",
    "                              batch_size=N)\n",
    "print('Done.\\n'\n",
    "      'Test loss: {}\\n'\n",
    "      'Test accuracy: {}'.format(*eval_results))\n"
   ]
  },
  {
   "cell_type": "markdown",
   "metadata": {},
   "source": [
    "### Data loader:\n",
    "\n",
    "https://github.com/danielegrattarola/spektral/blob/master/spektral/datasets/qm9.py\n",
    "\n",
    "https://github.com/danielegrattarola/spektral/blob/master/examples/regression_molecules.py"
   ]
  },
  {
   "cell_type": "code",
   "execution_count": 2,
   "metadata": {},
   "outputs": [],
   "source": [
    "import matplotlib.pyplot as plt\n",
    "import numpy as np\n",
    "from keras.callbacks import EarlyStopping\n",
    "from keras.layers import Input, Dense\n",
    "from keras.models import Model\n",
    "from keras.optimizers import Adam\n",
    "from sklearn.model_selection import train_test_split\n",
    "from sklearn.preprocessing import StandardScaler\n",
    "\n",
    "from spektral.datasets import qm9\n",
    "from spektral.layers import EdgeConditionedConv, GlobalAttentionPool\n",
    "from spektral.utils import label_to_one_hot"
   ]
  },
  {
   "cell_type": "code",
   "execution_count": 7,
   "metadata": {},
   "outputs": [
    {
     "name": "stdout",
     "output_type": "stream",
     "text": [
      "Loading QM9 dataset.\n",
      "Reading SDF\n"
     ]
    },
    {
     "name": "stderr",
     "output_type": "stream",
     "text": [
      "100%|██████████| 133885/133885 [00:29<00:00, 4502.93it/s]\n"
     ]
    }
   ],
   "source": [
    "adj, nf, ef, y = qm9.load_data(return_type='numpy',\n",
    "                               nf_keys='atomic_num',\n",
    "                               ef_keys='type',\n",
    "                               self_loops=True)"
   ]
  },
  {
   "cell_type": "code",
   "execution_count": 8,
   "metadata": {},
   "outputs": [
    {
     "data": {
      "text/plain": [
       "array([[ 6.469],\n",
       "       [ 6.316],\n",
       "       [ 6.002],\n",
       "       ...,\n",
       "       [23.972],\n",
       "       [24.796],\n",
       "       [23.434]])"
      ]
     },
     "execution_count": 8,
     "metadata": {},
     "output_type": "execute_result"
    }
   ],
   "source": [
    "y_array = y[['cv']].values # Heat capacity at 298.15K\n",
    "#y_array = y.iloc[:, 1:].values\n",
    "y_array"
   ]
  },
  {
   "cell_type": "code",
   "execution_count": 9,
   "metadata": {},
   "outputs": [],
   "source": [
    "# Preprocessing\n",
    "uniq_nf = np.unique(nf)\n",
    "nf = label_to_one_hot(nf, uniq_nf)\n",
    "uniq_ef = np.unique(ef)\n",
    "ef = label_to_one_hot(ef, uniq_ef)\n",
    "y_array_scaled = StandardScaler().fit_transform(y_array).reshape(-1, y_array.shape[-1])"
   ]
  },
  {
   "cell_type": "code",
   "execution_count": 10,
   "metadata": {},
   "outputs": [],
   "source": [
    "# Train/test split\n",
    "adj_train, adj_test, \\\n",
    "nf_train, nf_test,   \\\n",
    "ef_train, ef_test,   \\\n",
    "y_train, y_test = train_test_split(adj, nf, ef, y_array_scaled, test_size=0.1)"
   ]
  },
  {
   "cell_type": "code",
   "execution_count": 11,
   "metadata": {},
   "outputs": [],
   "source": [
    "# Parameters\n",
    "N = nf.shape[-2]          # Number of nodes in the graphs\n",
    "F = nf.shape[-1]          # Node features dimensionality\n",
    "S = ef.shape[-1]          # Edge features dimensionality\n",
    "n_out = y_array.shape[-1]       # Dimensionality of the target\n",
    "learning_rate = 1e-3      # Learning rate for SGD\n",
    "epochs = 25               # Number of training epochs\n",
    "batch_size = 64           # Batch size\n",
    "es_patience = 5           # Patience fot early stopping"
   ]
  },
  {
   "cell_type": "code",
   "execution_count": 12,
   "metadata": {},
   "outputs": [
    {
     "name": "stdout",
     "output_type": "stream",
     "text": [
      "WARNING:tensorflow:From /home/abiricz/.local/lib/python3.5/site-packages/tensorflow/python/framework/op_def_library.py:263: colocate_with (from tensorflow.python.framework.ops) is deprecated and will be removed in a future version.\n",
      "Instructions for updating:\n",
      "Colocations handled automatically by placer.\n"
     ]
    }
   ],
   "source": [
    "# Model definition\n",
    "nf_in = Input(shape=(N, F))\n",
    "adj_in = Input(shape=(N, N))\n",
    "ef_in = Input(shape=(N, N, S))\n",
    "\n",
    "gc1 = EdgeConditionedConv(32, activation='relu')([nf_in, adj_in, ef_in])\n",
    "gc2 = EdgeConditionedConv(64, activation='relu')([gc1, adj_in, ef_in])\n",
    "pool = GlobalAttentionPool(128)(gc2)\n",
    "dense1 = Dense(128, activation='relu')(pool)\n",
    "\n",
    "output = Dense(n_out)(dense1)"
   ]
  },
  {
   "cell_type": "code",
   "execution_count": 13,
   "metadata": {},
   "outputs": [
    {
     "name": "stdout",
     "output_type": "stream",
     "text": [
      "__________________________________________________________________________________________________\n",
      "Layer (type)                    Output Shape         Param #     Connected to                     \n",
      "==================================================================================================\n",
      "input_1 (InputLayer)            (None, 29, 6)        0                                            \n",
      "__________________________________________________________________________________________________\n",
      "input_2 (InputLayer)            (None, 29, 29)       0                                            \n",
      "__________________________________________________________________________________________________\n",
      "input_3 (InputLayer)            (None, 29, 29, 4)    0                                            \n",
      "__________________________________________________________________________________________________\n",
      "edge_conditioned_conv_1 (EdgeCo (None, 29, 32)       992         input_1[0][0]                    \n",
      "                                                                 input_2[0][0]                    \n",
      "                                                                 input_3[0][0]                    \n",
      "__________________________________________________________________________________________________\n",
      "edge_conditioned_conv_2 (EdgeCo (None, 29, 64)       10304       edge_conditioned_conv_1[0][0]    \n",
      "                                                                 input_2[0][0]                    \n",
      "                                                                 input_3[0][0]                    \n",
      "__________________________________________________________________________________________________\n",
      "global_attention_pool_1 (Global (None, 128)          16640       edge_conditioned_conv_2[0][0]    \n",
      "__________________________________________________________________________________________________\n",
      "dense_1 (Dense)                 (None, 128)          16512       global_attention_pool_1[0][0]    \n",
      "__________________________________________________________________________________________________\n",
      "dense_2 (Dense)                 (None, 1)            129         dense_1[0][0]                    \n",
      "==================================================================================================\n",
      "Total params: 44,577\n",
      "Trainable params: 44,577\n",
      "Non-trainable params: 0\n",
      "__________________________________________________________________________________________________\n"
     ]
    }
   ],
   "source": [
    "# Build model\n",
    "model = Model(inputs=[nf_in, adj_in, ef_in], outputs=output)\n",
    "optimizer = Adam(lr=learning_rate)\n",
    "model.compile(optimizer=optimizer, loss='mse')\n",
    "model.summary()"
   ]
  },
  {
   "cell_type": "code",
   "execution_count": 14,
   "metadata": {},
   "outputs": [],
   "source": [
    "# Callbacks\n",
    "es_callback = EarlyStopping(monitor='val_loss', patience=es_patience)"
   ]
  },
  {
   "cell_type": "code",
   "execution_count": 15,
   "metadata": {},
   "outputs": [
    {
     "data": {
      "text/plain": [
       "((120496, 29, 6), (120496, 29, 29), (120496, 29, 29, 4), (120496, 1))"
      ]
     },
     "execution_count": 15,
     "metadata": {},
     "output_type": "execute_result"
    }
   ],
   "source": [
    "nf_train.shape, adj_train.shape, ef_train.shape, y_train.shape"
   ]
  },
  {
   "cell_type": "code",
   "execution_count": 16,
   "metadata": {},
   "outputs": [
    {
     "name": "stdout",
     "output_type": "stream",
     "text": [
      "WARNING:tensorflow:From /home/abiricz/.local/lib/python3.5/site-packages/tensorflow/python/ops/math_ops.py:3066: to_int32 (from tensorflow.python.ops.math_ops) is deprecated and will be removed in a future version.\n",
      "Instructions for updating:\n",
      "Use tf.cast instead.\n",
      "Train on 108446 samples, validate on 12050 samples\n",
      "Epoch 1/25\n",
      "108446/108446 [==============================] - 110s 1ms/step - loss: 0.0616 - val_loss: 0.0425\n",
      "Epoch 2/25\n",
      "108446/108446 [==============================] - 108s 998us/step - loss: 0.0350 - val_loss: 0.0320\n",
      "Epoch 3/25\n",
      "108446/108446 [==============================] - 108s 999us/step - loss: 0.0317 - val_loss: 0.0265\n",
      "Epoch 4/25\n",
      "108446/108446 [==============================] - 108s 999us/step - loss: 0.0297 - val_loss: 0.0273\n",
      "Epoch 5/25\n",
      "108446/108446 [==============================] - 108s 998us/step - loss: 0.0273 - val_loss: 0.0224\n",
      "Epoch 6/25\n",
      "108446/108446 [==============================] - 108s 1000us/step - loss: 0.0256 - val_loss: 0.0304\n",
      "Epoch 7/25\n",
      "108446/108446 [==============================] - 108s 1000us/step - loss: 0.0246 - val_loss: 0.0246\n",
      "Epoch 8/25\n",
      "108446/108446 [==============================] - 108s 1000us/step - loss: 0.0228 - val_loss: 0.0249\n",
      "Epoch 9/25\n",
      "108446/108446 [==============================] - 108s 1000us/step - loss: 0.0221 - val_loss: 0.0200\n",
      "Epoch 10/25\n",
      "108446/108446 [==============================] - 108s 999us/step - loss: 0.0209 - val_loss: 0.0182\n",
      "Epoch 11/25\n",
      "108446/108446 [==============================] - 108s 1000us/step - loss: 0.0202 - val_loss: 0.0194\n",
      "Epoch 12/25\n",
      "108446/108446 [==============================] - 108s 1000us/step - loss: 0.0196 - val_loss: 0.0184\n",
      "Epoch 13/25\n",
      "108446/108446 [==============================] - 108s 999us/step - loss: 0.0187 - val_loss: 0.0252\n",
      "Epoch 14/25\n",
      "108446/108446 [==============================] - 108s 998us/step - loss: 0.0183 - val_loss: 0.0172\n",
      "Epoch 15/25\n",
      "108446/108446 [==============================] - 108s 999us/step - loss: 0.0180 - val_loss: 0.0172\n",
      "Epoch 16/25\n",
      "108446/108446 [==============================] - 108s 998us/step - loss: 0.0173 - val_loss: 0.0154\n",
      "Epoch 17/25\n",
      "108446/108446 [==============================] - 108s 999us/step - loss: 0.0171 - val_loss: 0.0156\n",
      "Epoch 18/25\n",
      "108446/108446 [==============================] - 108s 1000us/step - loss: 0.0165 - val_loss: 0.0159\n",
      "Epoch 19/25\n",
      "108446/108446 [==============================] - 108s 999us/step - loss: 0.0163 - val_loss: 0.0144\n",
      "Epoch 20/25\n",
      "108446/108446 [==============================] - 108s 999us/step - loss: 0.0156 - val_loss: 0.0140\n",
      "Epoch 21/25\n",
      "108446/108446 [==============================] - 108s 999us/step - loss: 0.0155 - val_loss: 0.0138\n",
      "Epoch 22/25\n",
      "108446/108446 [==============================] - 108s 999us/step - loss: 0.0150 - val_loss: 0.0141\n",
      "Epoch 23/25\n",
      "108446/108446 [==============================] - 108s 999us/step - loss: 0.0148 - val_loss: 0.0146\n",
      "Epoch 24/25\n",
      "108446/108446 [==============================] - 108s 999us/step - loss: 0.0145 - val_loss: 0.0131\n",
      "Epoch 25/25\n",
      "108446/108446 [==============================] - 108s 999us/step - loss: 0.0142 - val_loss: 0.0149\n"
     ]
    },
    {
     "data": {
      "text/plain": [
       "<keras.callbacks.History at 0x7fda23d94048>"
      ]
     },
     "execution_count": 16,
     "metadata": {},
     "output_type": "execute_result"
    }
   ],
   "source": [
    "# Train model\n",
    "model.fit([nf_train, adj_train, ef_train],\n",
    "          y_train,\n",
    "          batch_size=batch_size,\n",
    "          validation_split=0.1,\n",
    "          epochs=epochs,\n",
    "          callbacks=[es_callback])"
   ]
  },
  {
   "cell_type": "code",
   "execution_count": 17,
   "metadata": {},
   "outputs": [
    {
     "name": "stdout",
     "output_type": "stream",
     "text": [
      "Evaluating model.\n",
      "13389/13389 [==============================] - 7s 501us/step\n",
      "Done.\n",
      "Test loss: 0.01427250599306511\n"
     ]
    }
   ],
   "source": [
    "# Evaluate model\n",
    "print('Evaluating model.')\n",
    "eval_results = model.evaluate([nf_test, adj_test, ef_test],\n",
    "                              y_test,\n",
    "                              batch_size=batch_size)\n",
    "print('Done.\\n'\n",
    "      'Test loss: {}'.format(eval_results))"
   ]
  },
  {
   "cell_type": "code",
   "execution_count": 18,
   "metadata": {},
   "outputs": [
    {
     "data": {
      "text/plain": [
       "Text(0, 0.5, 'Actual')"
      ]
     },
     "execution_count": 18,
     "metadata": {},
     "output_type": "execute_result"
    },
    {
     "data": {
      "image/png": "[encoded data removed]",
      "text/plain": [
       "<Figure size 432x288 with 1 Axes>"
      ]
     },
     "metadata": {
      "needs_background": "light"
     },
     "output_type": "display_data"
    }
   ],
   "source": [
    "# Plot predictions\n",
    "preds = model.predict([nf_test, adj_test, ef_test])\n",
    "\n",
    "plt.figure()\n",
    "plt.scatter(preds, y_test, alpha=0.3)\n",
    "plt.plot(range(-6, 6), range(-6, 6))\n",
    "plt.xlabel('Predicted')\n",
    "plt.ylabel('Actual')\n",
    "#plt.savefig('pred_v_true.png')"
   ]
  },
  {
   "cell_type": "code",
   "execution_count": 30,
   "metadata": {},
   "outputs": [
    {
     "data": {
      "text/plain": [
       "0.11946759377970118"
      ]
     },
     "execution_count": 30,
     "metadata": {},
     "output_type": "execute_result"
    }
   ],
   "source": [
    "np.sqrt( np.sum( (preds - y_test)**2 ) / preds.shape[0] )"
   ]
  },
  {
   "cell_type": "code",
   "execution_count": null,
   "metadata": {},
   "outputs": [],
   "source": []
  }
 ],
 "metadata": {
  "kernelspec": {
   "display_name": "Python 3",
   "language": "python",
   "name": "python3"
  },
  "language_info": {
   "codemirror_mode": {
    "name": "ipython",
    "version": 3
   },
   "file_extension": ".py",
   "mimetype": "text/x-python",
   "name": "python",
   "nbconvert_exporter": "python",
   "pygments_lexer": "ipython3",
   "version": "3.5.2"
  }
 },
 "nbformat": 4,
 "nbformat_minor": 2
}
